{
 "cells": [
  {
   "cell_type": "code",
   "execution_count": 1,
   "metadata": {},
   "outputs": [],
   "source": [
    "import numpy as np\n",
    "import pandas as pd\n",
    "import ipywidgets as widgets\n",
    "import ipyvuetify as v"
   ]
  },
  {
   "cell_type": "code",
   "execution_count": 2,
   "metadata": {},
   "outputs": [],
   "source": [
    "# player1 = v.Select(label='Player1',items=['DJ', 'DY', 'HW', 'DH'],v_model=None)\n",
    "# player2 = v.Select(label='Player2',items=['DJ', 'DY', 'HW', 'DH'],v_model=None)\n",
    "# player3 = v.Select(label='Player3',items=['DJ', 'DY', 'HW', 'DH'],v_model=None)\n",
    "# player4 = v.Select(label='Player4',items=['DJ', 'DY', 'HW', 'DH'],v_model=None)\n",
    "# players = widgets.VBox([player1, player2, player3, player4])\n",
    "# players_out = widgets.Output()\n",
    "# with players_out:\n",
    "#     display(players)"
   ]
  },
  {
   "cell_type": "code",
   "execution_count": 3,
   "metadata": {},
   "outputs": [],
   "source": [
    "players_list = ['Player1','Player2','Player3','Player4']\n",
    "# players_list = [player1.v_model,player2.v_model,player3.v_model,player4.v_model]\n",
    "suspects_list = ['Mustard','Plum','Green','Peacock','Scarlet','White']\n",
    "weapons_list = ['Knife','Candlestick','Pistol','Rope','Pipe','Wrench']\n",
    "rooms_list = ['Hall','Lounge','Dining Room','Kitchen','Ball Room','Conservatory','Billiard Room','Library','Study']\n"
   ]
  },
  {
   "cell_type": "code",
   "execution_count": 4,
   "metadata": {},
   "outputs": [],
   "source": [
    "suspects_df = pd.DataFrame(columns=['Suspect']+players_list)\n",
    "suspects_df['Suspect'] = suspects_list\n",
    "suspects_df = suspects_df.fillna('-')"
   ]
  },
  {
   "cell_type": "code",
   "execution_count": 5,
   "metadata": {},
   "outputs": [],
   "source": [
    "weapons_df = pd.DataFrame(columns=['Weapon']+players_list)\n",
    "weapons_df['Weapon'] = weapons_list\n",
    "weapons_df = weapons_df.fillna('-')"
   ]
  },
  {
   "cell_type": "code",
   "execution_count": 6,
   "metadata": {},
   "outputs": [],
   "source": [
    "rooms_df = pd.DataFrame(columns=['Room']+players_list)\n",
    "rooms_df['Room'] = rooms_list\n",
    "rooms_df = rooms_df.fillna('-')"
   ]
  },
  {
   "cell_type": "code",
   "execution_count": 7,
   "metadata": {
    "scrolled": true
   },
   "outputs": [],
   "source": [
    "suspects_start = v.Select(label='Suspects',items=suspects_list,multiple=True,class_='mx-2',v_model = None)\n",
    "weapons_start = v.Select(label='Weapons',items=weapons_list,multiple=True,class_='mx-2',v_model = None)\n",
    "rooms_start = v.Select(label='Rooms',items=rooms_list,multiple=True,class_='mx-2',v_model = None)"
   ]
  },
  {
   "cell_type": "code",
   "execution_count": 27,
   "metadata": {},
   "outputs": [],
   "source": [
    "guesser = v.Select(label='Guesser',items=players_list,class_='mx-2',v_model=None)\n",
    "answerer = v.Select(label='Answered by',items=players_list+['None'],class_='mx-2',v_model=None)\n",
    "suspects = v.Select(label='Suspect',items=suspects_list,class_='mx-2',v_model=None)\n",
    "weapons = v.Select(label='Weapon',items=weapons_list,class_='mx-2',v_model=None)\n",
    "rooms = v.Select(label='Room',items=rooms_list,class_='mx-2',v_model=None)\n",
    "\n",
    "player1_out = widgets.Output()\n",
    "\n",
    "counter = 0\n",
    "def if_player1(change):\n",
    "    global card_shown\n",
    "    with player1_out:\n",
    "        if guesser.v_model == 'Player1':\n",
    "            player1_out.clear_output()\n",
    "            card_shown = v.Select(label='Card Shown',items=[suspects.v_model,weapons.v_model,rooms.v_model],class_='mx-2',v_model=None)\n",
    "            display(card_shown)\n",
    "        else:\n",
    "            player1_out.clear_output()\n",
    "guesser.observe(if_player1,names='v_model')\n",
    "suspects.observe(if_player1,names='v_model')\n",
    "weapons.observe(if_player1,names='v_model')\n",
    "rooms.observe(if_player1,names='v_model')\n",
    "\n",
    "disp = widgets.VBox([guesser,widgets.HBox([suspects,weapons,rooms]),answerer,player1_out])"
   ]
  },
  {
   "cell_type": "code",
   "execution_count": 9,
   "metadata": {},
   "outputs": [],
   "source": [
    "start_out = widgets.Output()\n",
    "start_btn = v.Btn(children=['Confirm'],style_='width: 150px',color='primary')\n",
    "out = widgets.Output()\n",
    "\n",
    "with start_out:\n",
    "    display(widgets.HBox([suspects_start,weapons_start,rooms_start]),start_btn)\n",
    "\n",
    "\n",
    "def start_btn_fn(widget,event,data):\n",
    "    with out:\n",
    "        start_out.clear_output()\n",
    "        out.clear_output()\n",
    "        display(widgets.VBox([disp,confirm_btn]))\n",
    "        start_cards_list = [suspects_start.v_model,weapons_start.v_model,rooms_start.v_model]\n",
    "        try:\n",
    "            suspects_ind = np.where(suspects_df['Suspect'].isin(start_cards_list[0]))[0]\n",
    "            suspects_df.iloc[suspects_ind,1:]=['O','X','X','X']\n",
    "            suspects_ind_not = np.where(~suspects_df['Suspect'].isin(start_cards_list[0]))[0]\n",
    "            suspects_df.iloc[suspects_ind_not,1]='X'\n",
    "        except TypeError:\n",
    "            suspects_ind = None\n",
    "\n",
    "        try:\n",
    "            weapons_ind = np.where(weapons_df['Weapon'].isin(start_cards_list[1]))[0]\n",
    "            weapons_df.iloc[weapons_ind,1:]=['O','X','X','X']\n",
    "            weapons_ind_not = np.where(~weapons_df['Weapon'].isin(start_cards_list[1]))[0]\n",
    "            weapons_df.iloc[weapons_ind_not,1]='X'\n",
    "        except TypeError:\n",
    "            weapons_ind = None\n",
    "\n",
    "        try:\n",
    "            rooms_ind = np.where(rooms_df['Room'].isin(start_cards_list[2]))[0]\n",
    "            rooms_df.iloc[rooms_ind,1:]=['O','X','X','X']\n",
    "            rooms_ind_not = np.where(~rooms_df['Room'].isin(start_cards_list[2]))[0]\n",
    "            rooms_df.iloc[rooms_ind_not,1]='X'\n",
    "        except TypeError:\n",
    "            rooms_ind = None\n",
    "\n",
    "        display(suspects_df,weapons_df,rooms_df,new_game_btn)\n",
    "\n",
    "start_btn.on_event('click', start_btn_fn)"
   ]
  },
  {
   "cell_type": "code",
   "execution_count": 10,
   "metadata": {},
   "outputs": [],
   "source": [
    "column_headers = ['Guesser','Suspect','Weapon','Room','Answered by']\n",
    "\n",
    "confirm_btn = v.Btn(children=['Confirm'],style_='width: 150px',color='primary')\n",
    "init_log_out = widgets.Output()\n",
    "log_out = widgets.Output()\n",
    "log_list = []\n",
    "\n",
    "log_df = pd.DataFrame(columns=column_headers)\n",
    "with init_log_out:\n",
    "    display(log_df)\n",
    "\n",
    "log_row_num = -1\n",
    "\n",
    "def log_confirm(widget,event,data):\n",
    "    global log_row_num, log_col_num\n",
    "    with log_out:\n",
    "        init_log_out.clear_output()\n",
    "        log_out.clear_output()\n",
    "        \n",
    "        log_row_num +=1\n",
    "        log_df.loc[log_row_num+1]=[guesser.v_model,suspects.v_model,weapons.v_model,rooms.v_model,answerer.v_model]\n",
    "        display(log_df)\n",
    "        \n",
    "        guesser_loc = np.where(np.array(players_list)==guesser.v_model)[0][0]\n",
    "        rotation_list = players_list[guesser_loc+1:]+players_list[:guesser_loc]\n",
    "        rotation_list.reverse()\n",
    "        rotation_list.append('None')\n",
    "        answerer_loc = np.where(np.array(rotation_list) == answerer.v_model)[0][0]\n",
    "        \n",
    "        suspects_ind = np.where(suspects_df['Suspect']==suspects.v_model)[0][0]\n",
    "        weapons_ind = np.where(weapons_df['Weapon']==weapons.v_model)[0][0]\n",
    "        rooms_ind = np.where(rooms_df['Room']==rooms.v_model)[0][0]\n",
    "        for player in rotation_list[:answerer_loc]:\n",
    "            col_ind = np.where(np.array(players_list)==player)[0][0]+1\n",
    "\n",
    "            suspects_df.iloc[suspects_ind,col_ind]='X'\n",
    "            weapons_df.iloc[weapons_ind,col_ind]='X'\n",
    "            rooms_df.iloc[rooms_ind,col_ind]='X'\n",
    "        \n",
    "        if answerer.v_model != 'None':\n",
    "            answerer_loc2 = np.where(np.array(players_list+['None']) == answerer.v_model)[0][0]\n",
    "            if guesser.v_model == 'Player1':\n",
    "                answer = card_shown.v_model\n",
    "                if answer == card_shown.items[0]:\n",
    "                    suspects_df.iloc[suspects_ind,1:]=['X','X','X','X']\n",
    "                    suspects_df.iloc[suspects_ind,answerer_loc2+1]='O'\n",
    "                elif answer == card_shown.items[1]:\n",
    "                    weapons_df.iloc[weapons_ind,1:]=['X','X','X','X']\n",
    "                    weapons_df.iloc[weapons_ind,answerer_loc2+1]='O'\n",
    "                else:\n",
    "                    rooms_df.iloc[rooms_ind,1:]=['X','X','X','X']\n",
    "                    rooms_df.iloc[rooms_ind ,answerer_loc2+1]='O'\n",
    "            else:\n",
    "                if suspects_df.iloc[suspects_ind,answerer_loc2+1]!='O' and suspects_df.iloc[suspects_ind,answerer_loc2+1]!='X':\n",
    "                    if weapons_df.iloc[weapons_ind,answerer_loc2+1]=='X' and rooms_df.iloc[rooms_ind ,answerer_loc2+1]=='X':\n",
    "                        suspects_df.iloc[suspects_ind,1:]=['X','X','X','X']\n",
    "                        suspects_df.iloc[suspects_ind,answerer_loc2+1]='O'\n",
    "                    elif weapons_df.iloc[weapons_ind,answerer_loc2+1]=='O' or rooms_df.iloc[rooms_ind,answerer_loc2+1]=='O':\n",
    "                        suspects_df.iloc[suspects_ind,answerer_loc2+1]='X'\n",
    "                    else:\n",
    "                        suspects_df.iloc[suspects_ind,answerer_loc2+1]=log_row_num+1\n",
    "                if weapons_df.iloc[weapons_ind,answerer_loc2+1]!='O'and weapons_df.iloc[weapons_ind,answerer_loc2+1]!='X':\n",
    "                    if suspects_df.iloc[suspects_ind,answerer_loc2+1]=='X' and rooms_df.iloc[rooms_ind ,answerer_loc2+1]=='X':\n",
    "                        weapons_df.iloc[weapons_ind,1:]=['X','X','X','X']\n",
    "                        weapons_df.iloc[weapons_ind,answerer_loc2+1]='O'\n",
    "                    elif suspects_df.iloc[suspects_ind,answerer_loc2+1]=='O' or rooms_df.iloc[rooms_ind,answerer_loc2+1]=='O':\n",
    "                        weapons_df.iloc[weapons_ind,answerer_loc2+1]='X'\n",
    "                    else:\n",
    "                        weapons_df.iloc[weapons_ind,answerer_loc2+1]=log_row_num+1\n",
    "                if rooms_df.iloc[rooms_ind ,answerer_loc2+1]!='O' and rooms_df.iloc[rooms_ind ,answerer_loc2+1]!='X':\n",
    "                    if suspects_df.iloc[suspects_ind,answerer_loc2+1]=='X' and weapons_df.iloc[weapons_ind ,answerer_loc2+1]=='X':\n",
    "                        rooms_df.iloc[rooms_ind,1:]=['X','X','X','X']\n",
    "                        rooms_df.iloc[rooms_ind ,answerer_loc2+1]='O'\n",
    "                    elif suspects_df.iloc[suspects_ind,answerer_loc2+1]=='O' or weapons_df.iloc[weapons_ind,answerer_loc2+1]=='O':\n",
    "                        rooms_df.iloc[rooms_ind ,answerer_loc2+1]='X'\n",
    "                    else:\n",
    "                        rooms_df.iloc[rooms_ind ,answerer_loc2+1]=log_row_num+1\n",
    "    with out:\n",
    "        out.clear_output()\n",
    "        display(widgets.VBox([disp,confirm_btn]))\n",
    "        display(suspects_df,weapons_df,rooms_df,new_game_btn)\n",
    "        \n",
    "confirm_btn.on_event('click',log_confirm)\n",
    "# widgets.HBox([widgets.VBox([start_out,out]),widgets.VBox([log_out,players_out])])"
   ]
  },
  {
   "cell_type": "code",
   "execution_count": 11,
   "metadata": {},
   "outputs": [
    {
     "data": {
      "application/vnd.jupyter.widget-view+json": {
       "model_id": "3b1d6275c1ce4f91be72c0362db00f90",
       "version_major": 2,
       "version_minor": 0
      },
      "text/plain": [
       "HBox(children=(VBox(children=(Output(), Output())), Output()))"
      ]
     },
     "metadata": {},
     "output_type": "display_data"
    }
   ],
   "source": [
    "new_game_btn = v.Btn(children=['New Game'],style_='width:150px')\n",
    "\n",
    "def new_game(widget,event,data):\n",
    "    #out.clear_output()\n",
    "    global log_df,suspects_df, weapons_df, rooms_df, log_row_num\n",
    "    log_df = pd.DataFrame(columns=column_headers)\n",
    "    \n",
    "    suspects_df = pd.DataFrame(columns=['Suspect']+players_list)\n",
    "    suspects_df['Suspect'] = suspects_list\n",
    "    suspects_df = suspects_df.fillna('-')\n",
    "    \n",
    "    weapons_df = pd.DataFrame(columns=['Weapon']+players_list)\n",
    "    weapons_df['Weapon'] = weapons_list\n",
    "    weapons_df = weapons_df.fillna('-')\n",
    "    \n",
    "    rooms_df = pd.DataFrame(columns=['Room']+players_list)\n",
    "    rooms_df['Room'] = rooms_list\n",
    "    rooms_df = rooms_df.fillna('-')\n",
    "    \n",
    "    log_row_num = -1\n",
    "    \n",
    "    with log_out:\n",
    "        log_out.clear_output()\n",
    "        #display(log_df)\n",
    "    with out:\n",
    "        out.clear_output()\n",
    "    \n",
    "    with start_out:\n",
    "        display(widgets.HBox([suspects_start,weapons_start,rooms_start]),start_btn)\n",
    "    display(widgets.HBox([widgets.VBox([start_out,out]),log_out]))\n",
    "    display(widgets.HBox([suspects_start,weapons_start,rooms_start]),start_btn)\n",
    "    \n",
    "new_game_btn.on_event('click',new_game)\n",
    "widgets.HBox([widgets.VBox([start_out,out]),log_out])"
   ]
  },
  {
   "cell_type": "code",
   "execution_count": null,
   "metadata": {},
   "outputs": [],
   "source": []
  },
  {
   "cell_type": "code",
   "execution_count": null,
   "metadata": {},
   "outputs": [],
   "source": []
  },
  {
   "cell_type": "code",
   "execution_count": null,
   "metadata": {},
   "outputs": [],
   "source": []
  }
 ],
 "metadata": {
  "kernelspec": {
   "display_name": "Python 3",
   "language": "python",
   "name": "python3"
  },
  "language_info": {
   "codemirror_mode": {
    "name": "ipython",
    "version": 3
   },
   "file_extension": ".py",
   "mimetype": "text/x-python",
   "name": "python",
   "nbconvert_exporter": "python",
   "pygments_lexer": "ipython3",
   "version": "3.8.5"
  }
 },
 "nbformat": 4,
 "nbformat_minor": 4
}
